{
 "cells": [
  {
   "cell_type": "markdown",
   "metadata": {},
   "source": [
    "### Guilherme Henrique Silva Barbara - 202120499"
   ]
  },
  {
   "cell_type": "markdown",
   "metadata": {},
   "source": [
    "## 1. Modelo\n",
    "\n",
    "\n",
    "xAN​: A -> Norte\n",
    "\n",
    "xAS: A -> Sul\n",
    "\n",
    "xNS​: Norte -> Sul\n",
    "\n",
    "xNB​: Norte -> B\n",
    "\n",
    "xSB​: Sul -> B\n",
    "\n",
    "\n",
    "                  Max f(x) = xNB + xSB\n",
    "                    S.a:\n",
    "\n",
    "                    xAN ​≤ 300, xAS ​≤ 500,xNS​ ≤ 300,xNB ​≤ 400,xSB ​≤ 300\n",
    "\n",
    "\n",
    "xAN + xNS = xNB\n",
    "\n",
    "xAS​= xSB​ + xNS​\n",
    "\n",
    "\n",
    "\n"
   ]
  },
  {
   "cell_type": "code",
   "execution_count": 1,
   "metadata": {},
   "outputs": [
    {
     "name": "stdout",
     "output_type": "stream",
     "text": [
      "Restricted license - for non-production use only - expires 2026-11-23\n",
      "Gurobi Optimizer version 12.0.0 build v12.0.0rc1 (linux64 - \"Ubuntu 24.04.1 LTS\")\n",
      "\n",
      "CPU model: Intel(R) Core(TM) i3-8130U CPU @ 2.20GHz, instruction set [SSE2|AVX|AVX2]\n",
      "Thread count: 2 physical cores, 4 logical processors, using up to 4 threads\n",
      "\n",
      "Optimize a model with 2 rows, 5 columns and 6 nonzeros\n",
      "Model fingerprint: 0x7cf2a7d8\n",
      "Coefficient statistics:\n",
      "  Matrix range     [1e+00, 1e+00]\n",
      "  Objective range  [1e+00, 1e+00]\n",
      "  Bounds range     [3e+02, 5e+02]\n",
      "  RHS range        [0e+00, 0e+00]\n",
      "Presolve removed 0 rows and 1 columns\n",
      "Presolve time: 0.01s\n",
      "Presolved: 2 rows, 4 columns, 5 nonzeros\n",
      "\n",
      "Iteration    Objective       Primal Inf.    Dual Inf.      Time\n",
      "       0    7.0000000e+02   1.000000e+02   0.000000e+00      0s\n",
      "       1    7.0000000e+02   0.000000e+00   0.000000e+00      0s\n",
      "\n",
      "Solved in 1 iterations and 0.02 seconds (0.00 work units)\n",
      "Optimal objective  7.000000000e+02\n",
      "xAN = 300.0\n",
      "xAS = 400.0\n",
      "xNS = 100.0\n",
      "xNB = 400.0\n",
      "xSB = 300.0\n",
      "Fluxo total: 700.0\n"
     ]
    }
   ],
   "source": [
    "import gurobipy as gp\n",
    "from gurobipy import GRB\n",
    "\n",
    "modelo = gp.Model(\"FluxoMaximo\")\n",
    "\n",
    "xAN = modelo.addVar(ub=300, name=\"xAN\")\n",
    "xAS = modelo.addVar(ub=500, name=\"xAS\")\n",
    "xNS = modelo.addVar(ub=300, name=\"xNS\")\n",
    "xNB = modelo.addVar(ub=400, name=\"xNB\")\n",
    "xSB = modelo.addVar(ub=300, name=\"xSB\")\n",
    "\n",
    "modelo.addConstr(xAN + xNS == xNB, \"fluxoNorte\")\n",
    "modelo.addConstr(xAS == xSB + xNS, \"fluxoSul\")\n",
    "modelo.setObjective(xNB + xSB, GRB.MAXIMIZE)\n",
    "\n",
    "modelo.optimize()\n",
    "\n",
    "if modelo.Status == GRB.OPTIMAL:\n",
    "    for var in modelo.getVars():\n",
    "        print(f\"{var.VarName} = {var.X}\")\n",
    "    print(f\"Fluxo total: {modelo.ObjVal}\")\n",
    "\n",
    "\n"
   ]
  },
  {
   "cell_type": "markdown",
   "metadata": {},
   "source": [
    "## Análise de Sensibilidade"
   ]
  },
  {
   "cell_type": "code",
   "execution_count": 2,
   "metadata": {},
   "outputs": [
    {
     "name": "stdout",
     "output_type": "stream",
     "text": [
      "fluxoNorte: Pi = -0.0, Slack = 0.0\n",
      "fluxoSul: Pi = -0.0, Slack = 0.0\n"
     ]
    }
   ],
   "source": [
    "for constr in modelo.getConstrs():\n",
    "    print(f\"{constr.ConstrName}: Pi = {constr.Pi}, Slack = {constr.Slack}\")\n",
    "\n"
   ]
  },
  {
   "cell_type": "markdown",
   "metadata": {},
   "source": [
    "A variável dual igual a zero para ambas as restrições sugere que, dentro dos limites atuais de capacidade, pequenas variações na demanda não impactarão significativamente o fluxo total. Entretanto, caso as capacidades sofram grandes variações, a solução ótima pode ser alterada."
   ]
  }
 ],
 "metadata": {
  "kernelspec": {
   "display_name": "base",
   "language": "python",
   "name": "python3"
  },
  "language_info": {
   "codemirror_mode": {
    "name": "ipython",
    "version": 3
   },
   "file_extension": ".py",
   "mimetype": "text/x-python",
   "name": "python",
   "nbconvert_exporter": "python",
   "pygments_lexer": "ipython3",
   "version": "3.12.2"
  }
 },
 "nbformat": 4,
 "nbformat_minor": 2
}
