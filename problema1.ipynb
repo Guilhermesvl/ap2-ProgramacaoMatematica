{
 "cells": [
  {
   "cell_type": "markdown",
   "metadata": {},
   "source": [
    "### Guilherme Henrique Silva Barbara - 202120499"
   ]
  },
  {
   "cell_type": "markdown",
   "metadata": {},
   "source": [
    "## 1. Modelo\n",
    "\n",
    "\n",
    "    x1​: número de relógios de pedestal;\n",
    "\n",
    "    x2​: número de relógios de parede.\n",
    "\n",
    "* Como cada relógio de pedestal gera 300 reais de lucro, e os de parede geram 200:\n",
    "\n",
    "\n",
    "                    Max f(x) = 300x1 + 200x2\n",
    "\n",
    "                        Sa:\n",
    "                            6x1 + 4x2 ≤ 40 \n",
    "\n",
    "                            8x1​ + 4x2​ ≤ 40\n",
    "\n",
    "                            3x1 ​+ 3x2 ​≤ 20\n",
    "                            \n",
    "                            x1,x2 ≥ 0\n",
    "\n",
    "* A limitação de **Jõao** é que ele produz 40 horas por semana. Para produzir x1​ relógios de pedestal, ele precisa de 6 horas por relógio, e para os relógios de parede, ele precisa de 4 horas por relógio;\n",
    "\n",
    "* Já **Ana**, também se dedica 40 horas por semana. Todavia, leva 8 horas para x1 relógios de pedestal, e 4 para x2 relóguos de parede;\n",
    "\n",
    "* Por último, **Lidia**, por sua vez, só consegue se dedicar 20 horas semanais, e leva 3 horas para produzir ambos os relógios.\n",
    "\n"
   ]
  },
  {
   "cell_type": "code",
   "execution_count": 2,
   "metadata": {},
   "outputs": [
    {
     "name": "stdout",
     "output_type": "stream",
     "text": [
      "Gurobi Optimizer version 12.0.0 build v12.0.0rc1 (linux64 - \"Ubuntu 24.04.1 LTS\")\n",
      "\n",
      "CPU model: Intel(R) Core(TM) i3-8130U CPU @ 2.20GHz, instruction set [SSE2|AVX|AVX2]\n",
      "Thread count: 2 physical cores, 4 logical processors, using up to 4 threads\n",
      "\n",
      "Optimize a model with 3 rows, 2 columns and 6 nonzeros\n",
      "Model fingerprint: 0x6103ff60\n",
      "Coefficient statistics:\n",
      "  Matrix range     [3e+00, 8e+00]\n",
      "  Objective range  [2e+02, 3e+02]\n",
      "  Bounds range     [0e+00, 0e+00]\n",
      "  RHS range        [2e+01, 4e+01]\n",
      "Presolve time: 0.01s\n",
      "Presolved: 3 rows, 2 columns, 6 nonzeros\n",
      "\n",
      "Iteration    Objective       Primal Inf.    Dual Inf.      Time\n",
      "       0    5.0000000e+32   4.250000e+30   5.000000e+02      0s\n",
      "       2    1.6666667e+03   0.000000e+00   0.000000e+00      0s\n",
      "\n",
      "Solved in 2 iterations and 0.01 seconds (0.00 work units)\n",
      "Optimal objective  1.666666667e+03\n",
      "Lucro Máximo: R$ 1666.67\n",
      "Relógios de Pedestal: 3.33\n",
      "Relógios de Parede: 3.33\n"
     ]
    }
   ],
   "source": [
    "from gurobipy import Model, GRB \n",
    "\n",
    "\n",
    "modelo = Model(\"Maximização do Lucro\")\n",
    "\n",
    "x1 = modelo.addVar(vtype=GRB.CONTINUOUS, name=\"relógiosPedestal\")\n",
    "x2 = modelo.addVar(vtype=GRB.CONTINUOUS, name=\"relógiosParede\")\n",
    "\n",
    "modelo.setObjective(300 * x1 + 200 * x2, GRB.MAXIMIZE)\n",
    "\n",
    "modelo.addConstr(6 * x1 + 4 * x2 <= 40, \"tempoJoão\")\n",
    "modelo.addConstr(8 * x1 + 4 * x2 <= 40, \"tempoAna\")\n",
    "modelo.addConstr(3 * x1 + 3 * x2 <= 20, \"tempoLídia\")\n",
    "\n",
    "modelo.optimize()\n",
    "\n",
    "if modelo.status == GRB.OPTIMAL:\n",
    "    print(f\"Lucro Máximo: R$ {modelo.objVal:.2f}\")\n",
    "    print(f\"Relógios de Pedestal: {x1.x:.2f}\")\n",
    "    print(f\"Relógios de Parede: {x2.x:.2f}\")"
   ]
  },
  {
   "cell_type": "markdown",
   "metadata": {},
   "source": [
    "## 2. Análise de Sensibilidade "
   ]
  },
  {
   "cell_type": "code",
   "execution_count": 3,
   "metadata": {},
   "outputs": [
    {
     "name": "stdout",
     "output_type": "stream",
     "text": [
      "tempoJoão: Dual = 0.0, Slack = 6.666666666666664\n",
      "tempoAna: Dual = 25.0, Slack = 0.0\n",
      "tempoLídia: Dual = 33.333333333333336, Slack = 0.0\n"
     ]
    }
   ],
   "source": [
    "for constr in modelo.getConstrs():\n",
    "    print(f\"{constr.ConstrName}: Dual = {constr.Pi}, Slack = {constr.Slack}\")\n"
   ]
  },
  {
   "cell_type": "markdown",
   "metadata": {},
   "source": [
    "**tempoJoão**: Aumentar o tempo disponível de Jõao não terá nenhum efeito no lucro, pois o tempo já é ocioso;\n",
    "\n",
    "**tempoAna**: Caso haja o aumento em uma hora no tempo disponível de Ana, o lucro teria um acréscimo de 25 reais;\n",
    "\n",
    "**tempoLidia**: Caso haja o aumento em uma hora no tempo disponível de Lidia, o lucro teria um acréscimo de 33,33 reais;"
   ]
  },
  {
   "cell_type": "markdown",
   "metadata": {},
   "source": [
    "## 3. Aumento de Disponibilidade de Horas\n",
    "\n",
    "Lídia é a pessoa que, ao aumentar seu tempo disponível, proporcionaria o maior aumento no lucro total. Aumentar em uma hora o tempo de Lídia resultaria em um acréscimo de R$ 33,33 no lucro. Lucro este, que é maior que os de João e Ana.\n",
    "\n",
    "## 4. Variável Dual Igual a Zero\n",
    "\n",
    "Uma variável dual igual a zero indica que há folga nessa restrição, e aumentar o limite da restrição não resultará em uma mudança no valor ótimo da função objetivo."
   ]
  }
 ],
 "metadata": {
  "kernelspec": {
   "display_name": "base",
   "language": "python",
   "name": "python3"
  },
  "language_info": {
   "codemirror_mode": {
    "name": "ipython",
    "version": 3
   },
   "file_extension": ".py",
   "mimetype": "text/x-python",
   "name": "python",
   "nbconvert_exporter": "python",
   "pygments_lexer": "ipython3",
   "version": "3.12.2"
  }
 },
 "nbformat": 4,
 "nbformat_minor": 2
}
